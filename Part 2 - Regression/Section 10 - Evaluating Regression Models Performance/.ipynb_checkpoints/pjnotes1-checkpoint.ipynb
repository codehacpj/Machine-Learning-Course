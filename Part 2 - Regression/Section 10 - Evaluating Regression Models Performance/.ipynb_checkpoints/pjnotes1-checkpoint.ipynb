{
 "cells": [
  {
   "cell_type": "markdown",
   "metadata": {},
   "source": [
    "# Evaluation of regression model performance "
   ]
  },
  {
   "cell_type": "markdown",
   "metadata": {},
   "source": [
    "1. OLS(ordinary least squares) ---> sum of squares of residuals. (<b>SSres = (Yi - delta(Yi))^2</b>--> dist of point from the line)<br>\n",
    "2. Total sum of squares: sum of squares of diff. from average line. <b>SStot = (Yi-Yavg)^2</b>\n",
    "3. <b>r^2  is (1 - SSres/SStot)</b>. we try to find a line to minimize the SSres. R^2 tells us how good is the line from the average line. R^2 has to be maximized i.e towards +1. R^2 can be -1. This can happen when your fitted line is way worse than the average line. It tells us how well our line is fitted to the data.\n",
    "4. Adjusted R^2: more variables in model, the R^2 method is not a good way to go. so here we get rid of the variables that don't have any effect on the model. say we add a new variable and say SSres decreases, R^2 will increase if other way the coeff of it becomes 0 as this new variable doesn't bring any decrease in SSres and thus R^2 will remain the same. So it will never decrease. if new variable has no effect on the model, then R^2 will be different but we won't know if it has any effect on the model actually. Adusted R^2 penalises us when we add the independent variable that don't help our model ie they don't minimize SSres. <b>Adj R^2 = 1- (1-R^2)(n-1)/(n-p-1)</b>\n",
    "<i>p is the number of regressors and n is sample size</i> <br>\n",
    "p is number of independent variables."
   ]
  },
  {
   "cell_type": "markdown",
   "metadata": {},
   "source": [
    "<b>*Remember*</b> the analysis for the backward elimination we used R&D only at last for the estimation for the profit but now what we need to see is the other parameters for the table. R squared and Adjusted R squared, thus when the Adjusted R squared, increases in other steps but decreases when we remove the marketing spend from the independent variables. Thus last step was not necessary.<p>\n",
    "    \n",
    "    Estimate values if +ve means +ve corelaiton and -ve then accordingly. magnitude of estimate represents the magnitude of correlation. But keep in mind the units. Need to be in per units or in same scale. (These are the coefficients and they represent the change in the value that these variables bring into the model)"
   ]
  },
  {
   "cell_type": "code",
   "execution_count": null,
   "metadata": {},
   "outputs": [],
   "source": []
  }
 ],
 "metadata": {
  "kernelspec": {
   "display_name": "Python 3",
   "language": "python",
   "name": "python3"
  },
  "language_info": {
   "codemirror_mode": {
    "name": "ipython",
    "version": 3
   },
   "file_extension": ".py",
   "mimetype": "text/x-python",
   "name": "python",
   "nbconvert_exporter": "python",
   "pygments_lexer": "ipython3",
   "version": "3.6.4"
  }
 },
 "nbformat": 4,
 "nbformat_minor": 2
}
