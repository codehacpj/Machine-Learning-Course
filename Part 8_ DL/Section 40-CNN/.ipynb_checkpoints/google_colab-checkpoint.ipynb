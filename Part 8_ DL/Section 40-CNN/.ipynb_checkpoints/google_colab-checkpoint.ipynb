{
 "cells": [
  {
   "cell_type": "markdown",
   "metadata": {},
   "source": [
    "## Using Google colab for deep learning"
   ]
  },
  {
   "cell_type": "raw",
   "metadata": {},
   "source": [
    "1. Open the colab notebook (!ls will just give you datalab folder)\n",
    "2. Upload your zip dataset.zip on your drive. \n",
    "3. Edit the Notebook settings to GPU/CPU that you need. To check if GPU is running \n",
    "    import tensorflow as tf\n",
    "device_name = tf.test.gpu_device_name()\n",
    "if device_name != '/device:GPU:0':\n",
    "  raise SystemError('GPU device not found')\n",
    "print('Found GPU at: {}'.format(device_name))\n",
    "\n",
    "4. Follow steps:(to mount the drive)\n",
    "    a. Step 1: (one by one)\n",
    "    !apt-get install -y -qq software-properties-common python-software-properties module-init-tools\n",
    "!add-apt-repository -y ppa:alessandro-strada/ppa 2>&1 > /dev/null\n",
    "!apt-get update -qq 2>&1 > /dev/null\n",
    "!apt-get -y install -qq google-drive-ocamlfuse fuse\n",
    "    \n",
    "    b. Step 2:(both)<br>\n",
    "    from google.colab import auth\n",
    "auth.authenticate_user()\n",
    "    \n",
    "    c. Step 3:(all at once)\n",
    "    from oauth2client.client import GoogleCredentials\n",
    "creds = GoogleCredentials.get_application_default()\n",
    "import getpass\n",
    "!google-drive-ocamlfuse -headless -id={creds.client_id} -secret={creds.client_secret} < /dev/null 2>&1 | grep URL\n",
    "vcode = getpass.getpass()\n",
    "!echo {vcode} | google-drive-ocamlfuse -headless -id={creds.client_id} -secret={creds.client_secret}\n",
    "    \n",
    "    d. Both Step 2 and 3 will require to fill in the verification code provided by the URLs\n",
    "    \n",
    "    e. Step 4:(at once)\n",
    "   !mkdir -p drive\n",
    "!google-drive-ocamlfuse drive\n",
    "    \n",
    "    f. !ls drive/ ---> will give you the files in the drive. i.e. your drive is mounted suscessfully.\n",
    "    \n",
    "    g. !unzip drive/dataset.zip willl unzip the dataset folder and then you can copy your code to the notebook and everything will  be good to go\n",
    "    "
   ]
  },
  {
   "cell_type": "markdown",
   "metadata": {},
   "source": [
    "## If anything goes wrong you can restart the terminal by :\n",
    "!kill -9 -1 <br>\n",
    "(This will restart all of it.)"
   ]
  },
  {
   "cell_type": "code",
   "execution_count": null,
   "metadata": {},
   "outputs": [],
   "source": []
  }
 ],
 "metadata": {
  "kernelspec": {
   "display_name": "Python 3",
   "language": "python",
   "name": "python3"
  },
  "language_info": {
   "codemirror_mode": {
    "name": "ipython",
    "version": 3
   },
   "file_extension": ".py",
   "mimetype": "text/x-python",
   "name": "python",
   "nbconvert_exporter": "python",
   "pygments_lexer": "ipython3",
   "version": "3.6.6"
  }
 },
 "nbformat": 4,
 "nbformat_minor": 2
}
