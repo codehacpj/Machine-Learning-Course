{
 "cells": [
  {
   "cell_type": "markdown",
   "metadata": {},
   "source": [
    "# Model selection"
   ]
  },
  {
   "cell_type": "markdown",
   "metadata": {},
   "source": [
    "After we built our Machine Learning models, some questions remained unanswered:\n",
    "\n",
    "    How to deal with the bias variance tradeoff when building a model and evaluating its performance ?\n",
    "    How to choose the optimal values for the hyperparameters (the parameters that are not learned) ?\n",
    "    How to find the most appropriate Machine Learning model for my business problem ?\n",
    "\n",
    "In this part we will answer these questions thanks to Model Selection techniques including:\n",
    "\n",
    "    k-Fold Cross Validation\n",
    "    Grid Search\n",
    "\n",
    "Eventually we will finish this course by a last bonus section included in this part, dedicated to one of the most powerful Machine Learning model, that has become more and more popular: XGBoost.\n",
    "\n",
    "\n"
   ]
  },
  {
   "cell_type": "code",
   "execution_count": null,
   "metadata": {},
   "outputs": [],
   "source": []
  }
 ],
 "metadata": {
  "kernelspec": {
   "display_name": "Python 3",
   "language": "python",
   "name": "python3"
  },
  "language_info": {
   "codemirror_mode": {
    "name": "ipython",
    "version": 3
   },
   "file_extension": ".py",
   "mimetype": "text/x-python",
   "name": "python",
   "nbconvert_exporter": "python",
   "pygments_lexer": "ipython3",
   "version": "3.6.6"
  }
 },
 "nbformat": 4,
 "nbformat_minor": 2
}
