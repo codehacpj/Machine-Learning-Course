{
 "cells": [
  {
   "cell_type": "markdown",
   "metadata": {},
   "source": [
    "# Data Preprocessing\n"
   ]
  },
  {
   "cell_type": "markdown",
   "metadata": {},
   "source": [
    "<b>1. Importing libraries</b><br>\n",
    "<b>2. Import data</b><br>\n",
    "<b>3. handle missing data</b><br>\n",
    " <i>for this we use sklearn.preprocessing Imputer library to replace the missing values with the provided strategy.</i><br>\n",
    " <b>4. Encoding categorical data</b><br>\n",
    " <i>The columns having categorical values needs to have numerical values for that we encode the categorical data</i><br>\n",
    " for this we use the sklearn.preprocessing LabelEncoder now since the labels if given the values of 0 1 and 2 the ML formulas may find that they have some kind of different weights. Now to avoid that we use the dummy encoding for 3 categories we use 100 010 001 for them in order where they exist.<br>\n",
    " for this again we use sklearn.preprocessing OneHotEncoder \n",
    " \n",
    " <b>5. Using sklearn.cross_validation train_test_split() to divide the data into training testing sets.</b><br>\n",
    " \n",
    " <b>6. Feature scaling: say age and salary if not on same scale, the ML models face problems as they mostly depend on the euclidean distances. So feature scaling is necessary. say the values can be between -1 to 1. To do this we use\n",
    "standardization--->                   \n",
    "(x - mean)/standard deviation. <br> \n",
    "normalization----><br>\n",
    " (x - min(x))/(max(x)-min(x))<br>\n",
    "</b>\n",
    "we use sklearn.preprocessing StandardScalar() \n"
   ]
  },
  {
   "cell_type": "code",
   "execution_count": null,
   "metadata": {},
   "outputs": [],
   "source": []
  }
 ],
 "metadata": {
  "kernelspec": {
   "display_name": "Python 3",
   "language": "python",
   "name": "python3"
  },
  "language_info": {
   "codemirror_mode": {
    "name": "ipython",
    "version": 3
   },
   "file_extension": ".py",
   "mimetype": "text/x-python",
   "name": "python",
   "nbconvert_exporter": "python",
   "pygments_lexer": "ipython3",
   "version": "3.6.4"
  }
 },
 "nbformat": 4,
 "nbformat_minor": 2
}
